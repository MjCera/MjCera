{
 "cells": [
  {
   "cell_type": "code",
   "execution_count": 6,
   "id": "079e2bdf",
   "metadata": {},
   "outputs": [
    {
     "name": "stdout",
     "output_type": "stream",
     "text": [
      "1 is odd\n",
      "2 is even\n",
      "3 is odd\n",
      "4 is even\n",
      "5 is odd\n",
      "6 is even\n"
     ]
    }
   ],
   "source": [
    "numbers = [1, 2, 3, 4, 5, 6] \n",
    "for number in numbers: \n",
    "    if (number%2) == 0: \n",
    "            print(f\"{number} is even\")   \n",
    "    else: \n",
    "            print(f\"{number} is odd\") \n"
   ]
  },
  {
   "cell_type": "code",
   "execution_count": 9,
   "id": "221f227e",
   "metadata": {},
   "outputs": [
    {
     "ename": "SyntaxError",
     "evalue": "invalid syntax (<ipython-input-9-ffc21fb6fca2>, line 2)",
     "output_type": "error",
     "traceback": [
      "\u001b[1;36m  File \u001b[1;32m\"<ipython-input-9-ffc21fb6fca2>\"\u001b[1;36m, line \u001b[1;32m2\u001b[0m\n\u001b[1;33m    evens = [ ] odds = [ ]\u001b[0m\n\u001b[1;37m                ^\u001b[0m\n\u001b[1;31mSyntaxError\u001b[0m\u001b[1;31m:\u001b[0m invalid syntax\n"
     ]
    }
   ],
   "source": [
    "numbers = [1, 2, 3, 4, 5, 6] \n",
    "evens = [ ] odds = [ ] \n",
    "for number in numbers:     \n",
    "if (number%2) == 0: \n",
    "evens.append(number) \n",
    "for number in numbers:       \n",
    "if (number%2) != 0: \n",
    "odds.append(number) \n",
    "print(evens) \n",
    "print(odds) \n"
   ]
  },
  {
   "cell_type": "code",
   "execution_count": 11,
   "id": "628f3d0e",
   "metadata": {},
   "outputs": [
    {
     "ename": "IndentationError",
     "evalue": "unexpected indent (<ipython-input-11-6bf28985e6f5>, line 3)",
     "output_type": "error",
     "traceback": [
      "\u001b[1;36m  File \u001b[1;32m\"<ipython-input-11-6bf28985e6f5>\"\u001b[1;36m, line \u001b[1;32m3\u001b[0m\n\u001b[1;33m    for number in numbers: number *= 2\u001b[0m\n\u001b[1;37m    ^\u001b[0m\n\u001b[1;31mIndentationError\u001b[0m\u001b[1;31m:\u001b[0m unexpected indent\n"
     ]
    }
   ],
   "source": [
    "numbers = [1, 2, 3, 4, 5, 6] \n",
    "doubles = [ ] \n",
    "    for number in numbers: number *= 2    \n",
    "    doubles.append(number) \n",
    "    print(doubles) \n"
   ]
  },
  {
   "cell_type": "code",
   "execution_count": 12,
   "id": "8f702318",
   "metadata": {},
   "outputs": [
    {
     "ename": "IndentationError",
     "evalue": "unexpected indent (<ipython-input-12-627e36359e49>, line 2)",
     "output_type": "error",
     "traceback": [
      "\u001b[1;36m  File \u001b[1;32m\"<ipython-input-12-627e36359e49>\"\u001b[1;36m, line \u001b[1;32m2\u001b[0m\n\u001b[1;33m    evens = [number for number in numbers if (number % 2) == 0] odds = [number for number in numbers if (number % 2) != 0]\u001b[0m\n\u001b[1;37m    ^\u001b[0m\n\u001b[1;31mIndentationError\u001b[0m\u001b[1;31m:\u001b[0m unexpected indent\n"
     ]
    }
   ],
   "source": [
    "numbers = [1, 2, 3, 4, 5, 6] \n",
    " evens = [number for number in numbers if (number % 2) == 0] odds = [number for number in numbers if (number % 2) != 0]         \n",
    " print(evens) print(odds) \n"
   ]
  },
  {
   "cell_type": "code",
   "execution_count": 13,
   "id": "3a772786",
   "metadata": {},
   "outputs": [
    {
     "ename": "SyntaxError",
     "evalue": "invalid syntax (<ipython-input-13-14446e98f7d1>, line 1)",
     "output_type": "error",
     "traceback": [
      "\u001b[1;36m  File \u001b[1;32m\"<ipython-input-13-14446e98f7d1>\"\u001b[1;36m, line \u001b[1;32m1\u001b[0m\n\u001b[1;33m    numbers = [1, 2, 3, 4, 5, 6] doubles = [number * 2 for number in numbers] print(doubles)\u001b[0m\n\u001b[1;37m                                 ^\u001b[0m\n\u001b[1;31mSyntaxError\u001b[0m\u001b[1;31m:\u001b[0m invalid syntax\n"
     ]
    }
   ],
   "source": [
    "numbers = [1, 2, 3, 4, 5, 6] doubles = [number * 2 for number in numbers] print(doubles) "
   ]
  },
  {
   "cell_type": "code",
   "execution_count": 14,
   "id": "b18ede84",
   "metadata": {},
   "outputs": [
    {
     "ename": "SyntaxError",
     "evalue": "invalid syntax (<ipython-input-14-ccf8e1b2d732>, line 1)",
     "output_type": "error",
     "traceback": [
      "\u001b[1;36m  File \u001b[1;32m\"<ipython-input-14-ccf8e1b2d732>\"\u001b[1;36m, line \u001b[1;32m1\u001b[0m\n\u001b[1;33m    Make a program that counts the length of each name and assign them to a list\u001b[0m\n\u001b[1;37m         ^\u001b[0m\n\u001b[1;31mSyntaxError\u001b[0m\u001b[1;31m:\u001b[0m invalid syntax\n"
     ]
    }
   ],
   "source": [
    "Make a program that counts the length of each name and assign them to a list \n",
    " name_lengths = [] names = [\"alice\", \"bob\", \"carol\"] name_lengths = [len(name) for name in names]         \n",
    " print(name_lengths) \n"
   ]
  },
  {
   "cell_type": "code",
   "execution_count": 15,
   "id": "25e5917c",
   "metadata": {},
   "outputs": [
    {
     "ename": "IndentationError",
     "evalue": "unexpected indent (<ipython-input-15-612ff01b56c6>, line 2)",
     "output_type": "error",
     "traceback": [
      "\u001b[1;36m  File \u001b[1;32m\"<ipython-input-15-612ff01b56c6>\"\u001b[1;36m, line \u001b[1;32m2\u001b[0m\n\u001b[1;33m    record = [\"alice\", 5]\u001b[0m\n\u001b[1;37m    ^\u001b[0m\n\u001b[1;31mIndentationError\u001b[0m\u001b[1;31m:\u001b[0m unexpected indent\n"
     ]
    }
   ],
   "source": [
    "# unpacking \n",
    " record = [\"alice\", 5] \n",
    " \n",
    "#name, length = record name, length, gender = record \n",
    " print(f\"{name} have a length of {length}\") \n"
   ]
  },
  {
   "cell_type": "code",
   "execution_count": 16,
   "id": "f7054fe2",
   "metadata": {},
   "outputs": [
    {
     "ename": "SyntaxError",
     "evalue": "invalid syntax (<ipython-input-16-f5192feb90be>, line 4)",
     "output_type": "error",
     "traceback": [
      "\u001b[1;36m  File \u001b[1;32m\"<ipython-input-16-f5192feb90be>\"\u001b[1;36m, line \u001b[1;32m4\u001b[0m\n\u001b[1;33m    ]  for name, length in records:\u001b[0m\n\u001b[1;37m       ^\u001b[0m\n\u001b[1;31mSyntaxError\u001b[0m\u001b[1;31m:\u001b[0m invalid syntax\n"
     ]
    }
   ],
   "source": [
    "records = [  [\"alice\", 5], \n",
    " [\"bob\", 3], \n",
    " [\"carol\", 5], \n",
    "]  for name, length in records: \n",
    "    print(f\"{name} have a length of {length}\") \n"
   ]
  },
  {
   "cell_type": "code",
   "execution_count": 17,
   "id": "c6255e28",
   "metadata": {},
   "outputs": [
    {
     "ename": "SyntaxError",
     "evalue": "invalid syntax (<ipython-input-17-c40ef893ad79>, line 1)",
     "output_type": "error",
     "traceback": [
      "\u001b[1;36m  File \u001b[1;32m\"<ipython-input-17-c40ef893ad79>\"\u001b[1;36m, line \u001b[1;32m1\u001b[0m\n\u001b[1;33m    names = [\"alice\", \"bob\", \"carol\"] name_lengths = [5, 3, 5]\u001b[0m\n\u001b[1;37m                                      ^\u001b[0m\n\u001b[1;31mSyntaxError\u001b[0m\u001b[1;31m:\u001b[0m invalid syntax\n"
     ]
    }
   ],
   "source": [
    "names = [\"alice\", \"bob\", \"carol\"] name_lengths = [5, 3, 5] \n",
    " for name, length in zip(names, name_lengths):     print(f\"{name} have a length of {length}\") \n",
    " print (zip(names, name_lengths)) print (list(zip(names, name_lengths))) \n"
   ]
  },
  {
   "cell_type": "code",
   "execution_count": 19,
   "id": "5d6b9814",
   "metadata": {},
   "outputs": [
    {
     "ename": "SyntaxError",
     "evalue": "invalid syntax (<ipython-input-19-3e9bec593cc1>, line 1)",
     "output_type": "error",
     "traceback": [
      "\u001b[1;36m  File \u001b[1;32m\"<ipython-input-19-3e9bec593cc1>\"\u001b[1;36m, line \u001b[1;32m1\u001b[0m\n\u001b[1;33m    names = [\"alice\", \"bob\", \"carol\", \"marvin\"] name_lengths = [5, 3, 5] genders = [\"female\", \"male\", \"female\"] ages = [15, 22, 34]\u001b[0m\n\u001b[1;37m                                                ^\u001b[0m\n\u001b[1;31mSyntaxError\u001b[0m\u001b[1;31m:\u001b[0m invalid syntax\n"
     ]
    }
   ],
   "source": [
    "names = [\"alice\", \"bob\", \"carol\", \"marvin\"] name_lengths = [5, 3, 5] genders = [\"female\", \"male\", \"female\"] ages = [15, 22, 34] \n",
    " for name, length, gender, age in zip(names, name_lengths, genders, ages): \n",
    "            print(f\"{name} have a length of {length}. They are {gender}. Ages are {age}\") print(filtered) \n",
    "\n",
    " \n"
   ]
  },
  {
   "cell_type": "code",
   "execution_count": null,
   "id": "d671d577",
   "metadata": {},
   "outputs": [],
   "source": []
  }
 ],
 "metadata": {
  "kernelspec": {
   "display_name": "Python 3",
   "language": "python",
   "name": "python3"
  },
  "language_info": {
   "codemirror_mode": {
    "name": "ipython",
    "version": 3
   },
   "file_extension": ".py",
   "mimetype": "text/x-python",
   "name": "python",
   "nbconvert_exporter": "python",
   "pygments_lexer": "ipython3",
   "version": "3.8.8"
  }
 },
 "nbformat": 4,
 "nbformat_minor": 5
}
