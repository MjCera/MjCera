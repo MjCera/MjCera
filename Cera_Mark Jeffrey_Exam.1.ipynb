{
 "cells": [
  {
   "cell_type": "code",
   "execution_count": 8,
   "id": "d3c42d56",
   "metadata": {},
   "outputs": [
    {
     "name": "stdout",
     "output_type": "stream",
     "text": [
      "['Batman', 'Superman', 'Spiderman']\n",
      "0\n",
      "Batman\n",
      "Wonderwoman\n",
      "0\n",
      "['Superman', 'Spiderman', 'Wonderwoman']\n"
     ]
    }
   ],
   "source": [
    "heroes = ['Batman', 'Superman', 'Spiderman']\n",
    "print(heroes)\n",
    "print(heroes.index('Batman'))\n",
    "print(heroes[0])\n",
    "heroes.append('Wonderwoman')\n",
    "heroes.remove('Batman')\n",
    "print(heroes[2])\n",
    "print(heroes.index('Superman'))\n",
    "print( heroes)"
   ]
  },
  {
   "cell_type": "code",
   "execution_count": 9,
   "id": "0930b656",
   "metadata": {},
   "outputs": [
    {
     "name": "stdout",
     "output_type": "stream",
     "text": [
      "True\n",
      "True\n",
      "True\n",
      "False\n"
     ]
    }
   ],
   "source": [
    "heroes = ['Batman', 'Superman', 'Spiderman']\n",
    "print('Batman' in heroes)\n",
    "print('Ironman' not in heroes)\n",
    "hero = 'Superman'\n",
    "print(hero in heroes)\n",
    "print('Ironman' not in ['Captain America', 'Ironman', 'Hulk'])"
   ]
  },
  {
   "cell_type": "code",
   "execution_count": 11,
   "id": "137b3398",
   "metadata": {},
   "outputs": [
    {
     "name": "stdout",
     "output_type": "stream",
     "text": [
      "['Batman', 'Superman', 'Spiderman', 'Captain America', 'Ironman', 'Hulk']\n",
      "['Batman', 'Superman', 'Spiderman', 'Captain America', 'Ironman', 'Hulk']\n"
     ]
    }
   ],
   "source": [
    "heroes1 = ['Batman', 'Superman', 'Spiderman']\n",
    "heroes2 = ['Captain America', 'Ironman', 'Hulk']\n",
    "print(heroes1 + heroes2)\n",
    "heroes = heroes1 + heroes2\n",
    "heroes2.remove('Hulk')\n",
    "print(heroes)\n"
   ]
  },
  {
   "cell_type": "code",
   "execution_count": 13,
   "id": "b7e1a950",
   "metadata": {},
   "outputs": [
    {
     "name": "stdout",
     "output_type": "stream",
     "text": [
      "['spiderman', 'Superman', 'Ironman', 'Hulk', 'Captain America', 'Batman']\n"
     ]
    }
   ],
   "source": [
    "heroes = ['Batman', 'Superman', 'spiderman', 'Captain America', 'Ironman', 'Hulk']\n",
    "heroes.sort()\n",
    "heroes.reverse()\n",
    "print(heroes)"
   ]
  },
  {
   "cell_type": "code",
   "execution_count": 14,
   "id": "d9d002d1",
   "metadata": {},
   "outputs": [
    {
     "name": "stdout",
     "output_type": "stream",
     "text": [
      "['Batman', 'Captain America', 'Hulk', 'Ironman', 'Superman', 'spiderman']\n",
      "['Hulk', 'Ironman', 'Captain America', 'spiderman', 'Superman', 'Batman']\n",
      "['Batman', 'Superman', 'spiderman', 'Captain America', 'Ironman', 'Hulk']\n"
     ]
    }
   ],
   "source": [
    "heroes = ['Batman', 'Superman', 'spiderman', 'Captain America', 'Ironman', 'Hulk']\n",
    "print(sorted(heroes))\n",
    "print(list(reversed(heroes)))\n",
    "print(heroes)"
   ]
  },
  {
   "cell_type": "code",
   "execution_count": 45,
   "id": "ded5a7a6",
   "metadata": {
    "scrolled": true
   },
   "outputs": [
    {
     "name": "stdout",
     "output_type": "stream",
     "text": [
      "my hero is Batman\n",
      "my hero is Batman\n",
      "my hero is Superman\n",
      "my hero is Superman\n",
      "my hero is spiderman\n",
      "my hero is spiderman\n",
      "my hero is Captain America\n",
      "my hero is Captain America\n",
      "my hero is Ironman\n",
      "my hero is Ironman\n",
      "my hero is Hulk\n",
      "my hero is Hulk\n"
     ]
    }
   ],
   "source": [
    "heroes = ['Batman', 'Superman', 'spiderman', 'Captain America', 'Ironman', 'Hulk']\n",
    "for hero in heroes:\n",
    "    print (f\"my hero is {hero}\")\n",
    "    print (\"my hero is {}\".format(hero))"
   ]
  },
  {
   "cell_type": "code",
   "execution_count": 29,
   "id": "2c995db2",
   "metadata": {},
   "outputs": [
    {
     "name": "stdout",
     "output_type": "stream",
     "text": [
      "21\n"
     ]
    }
   ],
   "source": [
    "numbers = [1, 2, 3, 4, 5, 6]\n",
    "total = 0\n",
    "for number in numbers:\n",
    "    total = total + number\n",
    "print(total)\n"
   ]
  },
  {
   "cell_type": "code",
   "execution_count": 30,
   "id": "03be3e1e",
   "metadata": {},
   "outputs": [
    {
     "name": "stdout",
     "output_type": "stream",
     "text": [
      "Type your age: 21\n",
      "You are old enough to drive\n"
     ]
    }
   ],
   "source": [
    "age = input(\"Type your age: \")\n",
    "age = int(age)\n",
    "if age >= 100:\n",
    "    print(\"That is not a valid age\")\n",
    "elif age >= 18:\n",
    "    print(\"You are old enough to drive\")\n",
    "elif age <= 0:\n",
    "    print(\"That is not a valid age\")\n",
    "else:\n",
    "    print(\"You are not old enough to drive\")"
   ]
  },
  {
   "cell_type": "code",
   "execution_count": 31,
   "id": "36301d51",
   "metadata": {},
   "outputs": [
    {
     "name": "stdout",
     "output_type": "stream",
     "text": [
      "Type your age: 21\n",
      "You are old enough to drive\n"
     ]
    }
   ],
   "source": [
    "age = input(\"Type your age: \")\n",
    "age = int(age)\n",
    "if age >= 100 or age <= 0:\n",
    "    print(\"That is not a valid age\")\n",
    "elif age >= 18:\n",
    "    print(\"You are old enough to drive\")\n",
    "else:\n",
    "    print(\"You are not old enough to drive\")"
   ]
  },
  {
   "cell_type": "code",
   "execution_count": 40,
   "id": "22ce6941",
   "metadata": {},
   "outputs": [
    {
     "name": "stdout",
     "output_type": "stream",
     "text": [
      "200 is greater than 100\n",
      "43 is less than 100\n",
      "10 is less than 100\n",
      "-10 is less than 100\n",
      "0 is less than 100\n"
     ]
    }
   ],
   "source": [
    "numbers = [200, 100, 43, 10, -10, 0]\n",
    "for number in numbers:\n",
    "    if number > 100:\n",
    "        print(f\"{number} is greater than 100\")\n",
    "    elif number < 100:\n",
    "        print(f\"{number} is less than 100\")"
   ]
  },
  {
   "cell_type": "code",
   "execution_count": 46,
   "id": "abc59d9b",
   "metadata": {},
   "outputs": [
    {
     "name": "stdout",
     "output_type": "stream",
     "text": [
      "[200, 100, 43]\n"
     ]
    }
   ],
   "source": [
    "numbers = [200, 100, 43, 10, -10, 0]\n",
    "filtered = []\n",
    "\n",
    "for number in numbers:\n",
    "    if number > 30:\n",
    "        filtered.append(number)\n",
    "print(filtered)"
   ]
  },
  {
   "cell_type": "code",
   "execution_count": null,
   "id": "d4567173",
   "metadata": {},
   "outputs": [],
   "source": []
  }
 ],
 "metadata": {
  "kernelspec": {
   "display_name": "Python 3",
   "language": "python",
   "name": "python3"
  },
  "language_info": {
   "codemirror_mode": {
    "name": "ipython",
    "version": 3
   },
   "file_extension": ".py",
   "mimetype": "text/x-python",
   "name": "python",
   "nbconvert_exporter": "python",
   "pygments_lexer": "ipython3",
   "version": "3.8.8"
  }
 },
 "nbformat": 4,
 "nbformat_minor": 5
}
